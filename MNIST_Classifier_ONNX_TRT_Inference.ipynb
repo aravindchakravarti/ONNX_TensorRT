{
  "nbformat": 4,
  "nbformat_minor": 0,
  "metadata": {
    "colab": {
      "provenance": [],
      "include_colab_link": true
    },
    "kernelspec": {
      "name": "python3",
      "display_name": "Python 3"
    },
    "accelerator": "GPU"
  },
  "cells": [
    {
      "cell_type": "markdown",
      "metadata": {
        "id": "view-in-github",
        "colab_type": "text"
      },
      "source": [
        "<a href=\"https://colab.research.google.com/github/aravindchakravarti/ONNX_TensorRT/blob/main/MNIST_Classifier_ONNX_TRT_Inference.ipynb\" target=\"_parent\"><img src=\"https://colab.research.google.com/assets/colab-badge.svg\" alt=\"Open In Colab\"/></a>"
      ]
    },
    {
      "cell_type": "code",
      "metadata": {
        "id": "0m2JWFliFfKT"
      },
      "source": [
        "from __future__ import print_function\n",
        "import torch\n",
        "# Import core module\n",
        "import torch.nn as nn\n",
        "# We need support for functional programming\n",
        "import torch.nn.functional as F\n",
        "import torch.optim as optim\n",
        "# For MNIST dataset\n",
        "from torchvision import datasets, transforms\n",
        "# For Global Average Pooling\n",
        "from torch.nn import AvgPool2d\n",
        "\n",
        "# For displaying images\n",
        "import cv2\n",
        "from google.colab.patches import cv2_imshow\n",
        "import matplotlib.pyplot as plt\n",
        "\n",
        "# You cannot live without Numpy in Python! :-D\n",
        "import numpy as np"
      ],
      "execution_count": null,
      "outputs": []
    },
    {
      "cell_type": "markdown",
      "source": [
        "# 1. Define the model, load dataset and train!"
      ],
      "metadata": {
        "id": "ozXZzkcv6Zeq"
      }
    },
    {
      "cell_type": "code",
      "metadata": {
        "id": "h_Cx9q2QFgM7"
      },
      "source": [
        "class Net(nn.Module):\n",
        "    def __init__(self):\n",
        "        super(Net, self).__init__()\n",
        "        self.conv1 = nn.Conv2d(1, 8, 3, padding=1)      #I=28, O=28, RF=3\n",
        "        self.batch1 = nn.BatchNorm2d(num_features=8)\n",
        "        self.conv2 = nn.Conv2d(8, 8, 3, padding=1)      #I=28, O=28, RF=5\n",
        "        self.batch2 = nn.BatchNorm2d(num_features=8)\n",
        "        self.conv3 = nn.Conv2d(8, 12, 3, padding=1)     #I=28, O=28, RF=7\n",
        "        self.batch3 = nn.BatchNorm2d(num_features=12)\n",
        "        self.pool1 = nn.MaxPool2d(2, 2)                 #I=28, O=14, RF=14\n",
        "        self.conv4 = nn.Conv2d(12, 10, 1)\n",
        "\n",
        "        self.conv5 = nn.Conv2d(10, 16, 3, padding=1)    #I=14, O=14, RF=17\n",
        "        self.batch4 = nn.BatchNorm2d(num_features=16)\n",
        "        self.conv6 = nn.Conv2d(16, 16, 3, padding=1)    #I=14, O=14, RF=20\n",
        "        self.batch5 = nn.BatchNorm2d(num_features=16)\n",
        "        self.conv7 = nn.Conv2d(16, 16, 3, padding=1)    #I=14, O=14, RF=23\n",
        "        self.batch6 = nn.BatchNorm2d(num_features=16)\n",
        "        self.pool2 = nn.MaxPool2d(2, 2)                 #I=14, O=07, RF=26\n",
        "        self.conv8 = nn.Conv2d(16, 10, 1)\n",
        "\n",
        "        self.conv9 = nn.Conv2d(10, 32, 3, padding=0)    #I=07, O=05, RF=29\n",
        "        self.batch7 = nn.BatchNorm2d(num_features=32)\n",
        "        self.conv10 = nn.Conv2d(32, 10, 3, padding=0)   #I=05, O=03, RF=32\n",
        "        self.batch8 = nn.BatchNorm2d(num_features=10)\n",
        "        self.avg_pool = nn.AvgPool2d(kernel_size=3)\n",
        "\n",
        "    def forward(self, x):\n",
        "        x = self.batch1(F.relu(self.conv1(x)))        #See above for Input\\\n",
        "        x = self.batch2(F.relu(self.conv2(x)))        #Output and Receptive Field\n",
        "        x = self.batch3(F.relu(self.conv3(x)))\n",
        "        x = self.pool1(x)\n",
        "        x = F.relu(self.conv4(x))\n",
        "\n",
        "        x = self.batch4(F.relu(self.conv5(x)))\n",
        "        x = self.batch5(F.relu(self.conv6(x)))\n",
        "        x = self.batch6(F.relu(self.conv7(x)))\n",
        "        x = self.pool2(x)\n",
        "        x = F.relu(self.conv8(x))\n",
        "\n",
        "        x = self.batch7(F.relu(self.conv9(x)))\n",
        "        x = self.batch8(F.relu(self.conv10(x)))\n",
        "        x = self.avg_pool(x)\n",
        "        x = x.view(-1, 10)                           # Don't want 10x1x1..\n",
        "        return F.log_softmax(x)"
      ],
      "execution_count": null,
      "outputs": []
    },
    {
      "cell_type": "code",
      "metadata": {
        "id": "xdydjYTZFyi3",
        "colab": {
          "base_uri": "https://localhost:8080/"
        },
        "outputId": "18057268-3e4a-4e65-bc74-ffa97a8f07c2"
      },
      "source": [
        "!pip install torchsummary\n",
        "from torchsummary import summary\n",
        "use_cuda = torch.cuda.is_available()\n",
        "device = torch.device(\"cuda\" if use_cuda else \"cpu\")\n",
        "print(device)\n",
        "model = Net().to(device)\n",
        "summary(model, input_size=(1, 28, 28))"
      ],
      "execution_count": null,
      "outputs": [
        {
          "output_type": "stream",
          "name": "stdout",
          "text": [
            "Requirement already satisfied: torchsummary in /usr/local/lib/python3.10/dist-packages (1.5.1)\n",
            "cuda\n",
            "----------------------------------------------------------------\n",
            "        Layer (type)               Output Shape         Param #\n",
            "================================================================\n",
            "            Conv2d-1            [-1, 8, 28, 28]              80\n",
            "       BatchNorm2d-2            [-1, 8, 28, 28]              16\n",
            "            Conv2d-3            [-1, 8, 28, 28]             584\n",
            "       BatchNorm2d-4            [-1, 8, 28, 28]              16\n",
            "            Conv2d-5           [-1, 12, 28, 28]             876\n",
            "       BatchNorm2d-6           [-1, 12, 28, 28]              24\n",
            "         MaxPool2d-7           [-1, 12, 14, 14]               0\n",
            "            Conv2d-8           [-1, 10, 14, 14]             130\n",
            "            Conv2d-9           [-1, 16, 14, 14]           1,456\n",
            "      BatchNorm2d-10           [-1, 16, 14, 14]              32\n",
            "           Conv2d-11           [-1, 16, 14, 14]           2,320\n",
            "      BatchNorm2d-12           [-1, 16, 14, 14]              32\n",
            "           Conv2d-13           [-1, 16, 14, 14]           2,320\n",
            "      BatchNorm2d-14           [-1, 16, 14, 14]              32\n",
            "        MaxPool2d-15             [-1, 16, 7, 7]               0\n",
            "           Conv2d-16             [-1, 10, 7, 7]             170\n",
            "           Conv2d-17             [-1, 32, 5, 5]           2,912\n",
            "      BatchNorm2d-18             [-1, 32, 5, 5]              64\n",
            "           Conv2d-19             [-1, 10, 3, 3]           2,890\n",
            "      BatchNorm2d-20             [-1, 10, 3, 3]              20\n",
            "        AvgPool2d-21             [-1, 10, 1, 1]               0\n",
            "================================================================\n",
            "Total params: 13,974\n",
            "Trainable params: 13,974\n",
            "Non-trainable params: 0\n",
            "----------------------------------------------------------------\n",
            "Input size (MB): 0.00\n",
            "Forward/backward pass size (MB): 0.53\n",
            "Params size (MB): 0.05\n",
            "Estimated Total Size (MB): 0.59\n",
            "----------------------------------------------------------------\n"
          ]
        },
        {
          "output_type": "stream",
          "name": "stderr",
          "text": [
            "<ipython-input-2-6a328491a770>:45: UserWarning: Implicit dimension choice for log_softmax has been deprecated. Change the call to include dim=X as an argument.\n",
            "  return F.log_softmax(x)\n"
          ]
        }
      ]
    },
    {
      "cell_type": "code",
      "metadata": {
        "id": "DqTWLaM5GHgH",
        "colab": {
          "base_uri": "https://localhost:8080/"
        },
        "outputId": "e5e3e7e8-9e0e-4639-ec9b-a5bb51bfce00"
      },
      "source": [
        "torch.manual_seed(1)\n",
        "batch_size = 128\n",
        "\n",
        "kwargs = {'num_workers': 1, 'pin_memory': True} if use_cuda else {}\n",
        "\n",
        "train_loader = torch.utils.data.DataLoader(\n",
        "    datasets.MNIST('../data', train=True, download=True,\n",
        "                    transform=transforms.Compose([\n",
        "                        transforms.ToTensor(),\n",
        "                        transforms.Normalize((0.1307,), (0.3081,))\n",
        "                    ])),\n",
        "    batch_size=batch_size, shuffle=True, **kwargs)\n",
        "\n",
        "test_loader = torch.utils.data.DataLoader(\n",
        "    datasets.MNIST('../data', train=False, transform=transforms.Compose([\n",
        "                        transforms.ToTensor(),\n",
        "                        transforms.Normalize((0.1307,), (0.3081,))\n",
        "                    ])),\n",
        "    batch_size=batch_size, shuffle=True, **kwargs)\n"
      ],
      "execution_count": null,
      "outputs": [
        {
          "output_type": "stream",
          "name": "stdout",
          "text": [
            "Downloading http://yann.lecun.com/exdb/mnist/train-images-idx3-ubyte.gz\n",
            "Downloading http://yann.lecun.com/exdb/mnist/train-images-idx3-ubyte.gz to ../data/MNIST/raw/train-images-idx3-ubyte.gz\n"
          ]
        },
        {
          "output_type": "stream",
          "name": "stderr",
          "text": [
            "100%|██████████| 9912422/9912422 [00:00<00:00, 120146083.71it/s]\n"
          ]
        },
        {
          "output_type": "stream",
          "name": "stdout",
          "text": [
            "Extracting ../data/MNIST/raw/train-images-idx3-ubyte.gz to ../data/MNIST/raw\n",
            "\n",
            "Downloading http://yann.lecun.com/exdb/mnist/train-labels-idx1-ubyte.gz\n",
            "Downloading http://yann.lecun.com/exdb/mnist/train-labels-idx1-ubyte.gz to ../data/MNIST/raw/train-labels-idx1-ubyte.gz\n"
          ]
        },
        {
          "output_type": "stream",
          "name": "stderr",
          "text": [
            "100%|██████████| 28881/28881 [00:00<00:00, 98805623.02it/s]"
          ]
        },
        {
          "output_type": "stream",
          "name": "stdout",
          "text": [
            "Extracting ../data/MNIST/raw/train-labels-idx1-ubyte.gz to ../data/MNIST/raw\n",
            "\n",
            "Downloading http://yann.lecun.com/exdb/mnist/t10k-images-idx3-ubyte.gz\n",
            "Downloading http://yann.lecun.com/exdb/mnist/t10k-images-idx3-ubyte.gz to ../data/MNIST/raw/t10k-images-idx3-ubyte.gz\n"
          ]
        },
        {
          "output_type": "stream",
          "name": "stderr",
          "text": [
            "\n",
            "100%|██████████| 1648877/1648877 [00:00<00:00, 28592832.65it/s]\n"
          ]
        },
        {
          "output_type": "stream",
          "name": "stdout",
          "text": [
            "Extracting ../data/MNIST/raw/t10k-images-idx3-ubyte.gz to ../data/MNIST/raw\n",
            "\n",
            "Downloading http://yann.lecun.com/exdb/mnist/t10k-labels-idx1-ubyte.gz\n",
            "Downloading http://yann.lecun.com/exdb/mnist/t10k-labels-idx1-ubyte.gz to ../data/MNIST/raw/t10k-labels-idx1-ubyte.gz\n"
          ]
        },
        {
          "output_type": "stream",
          "name": "stderr",
          "text": [
            "100%|██████████| 4542/4542 [00:00<00:00, 6219565.38it/s]\n"
          ]
        },
        {
          "output_type": "stream",
          "name": "stdout",
          "text": [
            "Extracting ../data/MNIST/raw/t10k-labels-idx1-ubyte.gz to ../data/MNIST/raw\n",
            "\n"
          ]
        }
      ]
    },
    {
      "cell_type": "code",
      "metadata": {
        "id": "8fDefDhaFlwH"
      },
      "source": [
        "from tqdm import tqdm\n",
        "def train(model, device, train_loader, optimizer, epoch):\n",
        "    model.train()\n",
        "    # Disabling TQDM. Don't want to hurt CPU on my machine\n",
        "    #pbar = tqdm(train_loader)\n",
        "    #       If you enable TQDM, replace to pbar-- below\n",
        "    #                                           |\n",
        "    #                                           ▼\n",
        "    for batch_idx, (data, target) in enumerate(train_loader):\n",
        "        data, target = data.to(device), target.to(device)\n",
        "        optimizer.zero_grad()\n",
        "        output = model(data)\n",
        "        loss = F.nll_loss(output, target)\n",
        "        loss.backward()\n",
        "        optimizer.step()\n",
        "        #pbar.set_description(desc= f'loss={loss.item()} batch_id={batch_idx}')\n",
        "\n",
        "\n",
        "def test(model, device, test_loader):\n",
        "    model.eval()\n",
        "    test_loss = 0\n",
        "    correct = 0\n",
        "    with torch.no_grad():\n",
        "        for data, target in test_loader:\n",
        "            data, target = data.to(device), target.to(device)\n",
        "            output = model(data)\n",
        "            test_loss += F.nll_loss(output, target, reduction='sum').item()  # sum up batch loss\n",
        "            pred = output.argmax(dim=1, keepdim=True)  # get the index of the max log-probability\n",
        "            correct += pred.eq(target.view_as(pred)).sum().item()\n",
        "\n",
        "    test_loss /= len(test_loader.dataset)\n",
        "\n",
        "    print('\\nTest set: Average loss: {:.4f}, Accuracy: {}/{} ({:.2f}%)\\n'.format(\n",
        "        test_loss, correct, len(test_loader.dataset),\n",
        "        100. * correct / len(test_loader.dataset)))"
      ],
      "execution_count": null,
      "outputs": []
    },
    {
      "cell_type": "code",
      "metadata": {
        "id": "MMWbLWO6FuHb",
        "colab": {
          "base_uri": "https://localhost:8080/"
        },
        "outputId": "75aa904d-3d6a-47f9-e2be-edf97faf1276"
      },
      "source": [
        "# Assign model to GPU and start training. I am training here only for 1 epoch as 90+ % accuracy is\n",
        "# sufficient for my experiment\n",
        "model = Net().to(device)\n",
        "optimizer = optim.SGD(model.parameters(), lr=0.01, momentum=0.9)\n",
        "\n",
        "for epoch in range(1, 2):\n",
        "    train(model, device, train_loader, optimizer, epoch)\n",
        "    test(model, device, test_loader)"
      ],
      "execution_count": null,
      "outputs": [
        {
          "output_type": "stream",
          "name": "stderr",
          "text": [
            "<ipython-input-2-6a328491a770>:45: UserWarning: Implicit dimension choice for log_softmax has been deprecated. Change the call to include dim=X as an argument.\n",
            "  return F.log_softmax(x)\n"
          ]
        },
        {
          "output_type": "stream",
          "name": "stdout",
          "text": [
            "\n",
            "Test set: Average loss: 0.0814, Accuracy: 9820/10000 (98.20%)\n",
            "\n"
          ]
        }
      ]
    },
    {
      "cell_type": "markdown",
      "source": [
        "# 2. Inferencing using Model"
      ],
      "metadata": {
        "id": "v45UCcYj57_D"
      }
    },
    {
      "cell_type": "code",
      "source": [
        "# Turn the modelto inference only\n",
        "model.eval()\n",
        "\n",
        "# Read the image, scale it to 28x28 and convert it into Grayscale\n",
        "img = cv2.imread('/content/eight.jpg')\n",
        "img = cv2.resize(img, (28,28))\n",
        "img = cv2.cvtColor(img, cv2.COLOR_BGR2GRAY)\n",
        "\n",
        "'''\n",
        "To match to MNIST dataset, we need to invert the image\n",
        "for more information check here -->\n",
        "https://stackoverflow.com/questions/58631088/why-are-my-neural-network-predictions-correct-when-applied-to-mnist-hand-drawn-i\n",
        "'''\n",
        "img= cv2.bitwise_not(img) # invert image\n",
        "plt.figure(figsize = (1,1))\n",
        "plt.imshow(img, cmap = plt.cm.binary)\n",
        "\n",
        "# Bring the image between 0->1 and perform zero mean, unit variance\n",
        "img = img.astype(np.float32)\n",
        "img = img/255\n",
        "img = (img-0.1307)/0.3081\n",
        "\n",
        "# We need image size as batch x channels x width x height\n",
        "img = np.expand_dims(img, 0)\n",
        "img = np.expand_dims(img, 0)\n",
        "img = torch.from_numpy(img).to(device)\n",
        "\n",
        "# Run the inference and get the max out from the neural network\n",
        "output = model(img)\n",
        "#print (output)\n",
        "pred = output.argmax(dim=1, keepdim=True)  # get the index of the max log-probability\n",
        "pred = pred.detach().cpu().numpy()\n",
        "\n",
        "print ('\\x1b[1;31m \\x1b[0;31m' + \"Charecter is ➡ {} \".format(pred.flatten()[0]) + '\\x1b[0m')\n"
      ],
      "metadata": {
        "colab": {
          "base_uri": "https://localhost:8080/",
          "height": 213
        },
        "id": "SdGwQ75-BCWh",
        "outputId": "56b84b1a-baf5-41f9-98ff-01aa697b3be9"
      },
      "execution_count": null,
      "outputs": [
        {
          "output_type": "stream",
          "name": "stdout",
          "text": [
            "\u001b[1;31m \u001b[0;31mCharecter is ➡ 8 \u001b[0m\n"
          ]
        },
        {
          "output_type": "stream",
          "name": "stderr",
          "text": [
            "<ipython-input-2-6a328491a770>:45: UserWarning: Implicit dimension choice for log_softmax has been deprecated. Change the call to include dim=X as an argument.\n",
            "  return F.log_softmax(x)\n"
          ]
        },
        {
          "output_type": "display_data",
          "data": {
            "text/plain": [
              "<Figure size 100x100 with 1 Axes>"
            ],
            "image/png": "[encoded data removed]"
          },
          "metadata": {}
        }
      ]
    },
    {
      "cell_type": "markdown",
      "source": [
        "#3. Convert to ONNX and inference using ONNX"
      ],
      "metadata": {
        "id": "mnC5Q_pM6jZ0"
      }
    },
    {
      "cell_type": "code",
      "source": [
        "!pip install onnx\n",
        "!pip install onnxruntime\n",
        "!pip install onnxscript\n",
        "\n",
        "import onnx\n",
        "import onnxruntime"
      ],
      "metadata": {
        "id": "3zulkMb0Bbjp",
        "colab": {
          "base_uri": "https://localhost:8080/"
        },
        "outputId": "9e5f094c-dde2-407a-ec07-b61ac19d9c5b"
      },
      "execution_count": null,
      "outputs": [
        {
          "output_type": "stream",
          "name": "stdout",
          "text": [
            "Collecting onnx\n",
            "  Downloading onnx-1.15.0-cp310-cp310-manylinux_2_17_x86_64.manylinux2014_x86_64.whl (15.7 MB)\n",
            "\u001b[2K     \u001b[90m━━━━━━━━━━━━━━━━━━━━━━━━━━━━━━━━━━━━━━━━\u001b[0m \u001b[32m15.7/15.7 MB\u001b[0m \u001b[31m51.2 MB/s\u001b[0m eta \u001b[36m0:00:00\u001b[0m\n",
            "\u001b[?25hRequirement already satisfied: numpy in /usr/local/lib/python3.10/dist-packages (from onnx) (1.23.5)\n",
            "Requirement already satisfied: protobuf>=3.20.2 in /usr/local/lib/python3.10/dist-packages (from onnx) (3.20.3)\n",
            "Installing collected packages: onnx\n",
            "Successfully installed onnx-1.15.0\n",
            "Collecting onnxruntime\n",
            "  Downloading onnxruntime-1.16.3-cp310-cp310-manylinux_2_17_x86_64.manylinux2014_x86_64.whl (6.4 MB)\n",
            "\u001b[2K     \u001b[90m━━━━━━━━━━━━━━━━━━━━━━━━━━━━━━━━━━━━━━━━\u001b[0m \u001b[32m6.4/6.4 MB\u001b[0m \u001b[31m20.4 MB/s\u001b[0m eta \u001b[36m0:00:00\u001b[0m\n",
            "\u001b[?25hCollecting coloredlogs (from onnxruntime)\n",
            "  Downloading coloredlogs-15.0.1-py2.py3-none-any.whl (46 kB)\n",
            "\u001b[2K     \u001b[90m━━━━━━━━━━━━━━━━━━━━━━━━━━━━━━━━━━━━━━━━\u001b[0m \u001b[32m46.0/46.0 kB\u001b[0m \u001b[31m6.8 MB/s\u001b[0m eta \u001b[36m0:00:00\u001b[0m\n",
            "\u001b[?25hRequirement already satisfied: flatbuffers in /usr/local/lib/python3.10/dist-packages (from onnxruntime) (23.5.26)\n",
            "Requirement already satisfied: numpy>=1.21.6 in /usr/local/lib/python3.10/dist-packages (from onnxruntime) (1.23.5)\n",
            "Requirement already satisfied: packaging in /usr/local/lib/python3.10/dist-packages (from onnxruntime) (23.2)\n",
            "Requirement already satisfied: protobuf in /usr/local/lib/python3.10/dist-packages (from onnxruntime) (3.20.3)\n",
            "Requirement already satisfied: sympy in /usr/local/lib/python3.10/dist-packages (from onnxruntime) (1.12)\n",
            "Collecting humanfriendly>=9.1 (from coloredlogs->onnxruntime)\n",
            "  Downloading humanfriendly-10.0-py2.py3-none-any.whl (86 kB)\n",
            "\u001b[2K     \u001b[90m━━━━━━━━━━━━━━━━━━━━━━━━━━━━━━━━━━━━━━━━\u001b[0m \u001b[32m86.8/86.8 kB\u001b[0m \u001b[31m1.9 MB/s\u001b[0m eta \u001b[36m0:00:00\u001b[0m\n",
            "\u001b[?25hRequirement already satisfied: mpmath>=0.19 in /usr/local/lib/python3.10/dist-packages (from sympy->onnxruntime) (1.3.0)\n",
            "Installing collected packages: humanfriendly, coloredlogs, onnxruntime\n",
            "Successfully installed coloredlogs-15.0.1 humanfriendly-10.0 onnxruntime-1.16.3\n",
            "Collecting onnxscript\n",
            "  Downloading onnxscript-0.1.0.dev20240111-py3-none-any.whl (551 kB)\n",
            "\u001b[2K     \u001b[90m━━━━━━━━━━━━━━━━━━━━━━━━━━━━━━━━━━━━━━━━\u001b[0m \u001b[32m551.2/551.2 kB\u001b[0m \u001b[31m3.4 MB/s\u001b[0m eta \u001b[36m0:00:00\u001b[0m\n",
            "\u001b[?25hRequirement already satisfied: numpy in /usr/local/lib/python3.10/dist-packages (from onnxscript) (1.23.5)\n",
            "Requirement already satisfied: onnx>=1.14 in /usr/local/lib/python3.10/dist-packages (from onnxscript) (1.15.0)\n",
            "Requirement already satisfied: typing-extensions in /usr/local/lib/python3.10/dist-packages (from onnxscript) (4.5.0)\n",
            "Requirement already satisfied: protobuf>=3.20.2 in /usr/local/lib/python3.10/dist-packages (from onnx>=1.14->onnxscript) (3.20.3)\n",
            "Installing collected packages: onnxscript\n",
            "Successfully installed onnxscript-0.1.0.dev20240111\n"
          ]
        }
      ]
    },
    {
      "cell_type": "code",
      "source": [
        "ONNX_FILE_PATH = 'MNIST_Classifier.onnx'\n",
        "\n",
        "# we need to give sample input the ONNX converter. Since, model work on 4 dimensions, 4th dimension being batch size,\n",
        "# we give batch size as 1.\n",
        "dummy_input = torch.randn(1, 1, 28, 28, device=\"cuda\") # 1080, 1920, device=\"cuda\")\n",
        "#dummy_input = dummy_input.half()\n",
        "\n",
        "with torch.no_grad():\n",
        "   model = model.to(device)\n",
        "   torch_out = model(dummy_input)\n",
        "\n",
        "# Export the model to ONNX\n",
        "torch.onnx.export(model,\n",
        "                  dummy_input,\n",
        "                  ONNX_FILE_PATH,\n",
        "                  opset_version = 12,\n",
        "                  input_names=['images'],\n",
        "                  output_names=['output0'],\n",
        "                  export_params=True)\n",
        "\n",
        "# If converted model has any error, then it will checker will give error!\n",
        "onnx_model = onnx.load('/content/MNIST_Classifier.onnx')\n",
        "onnx.checker.check_model(onnx_model)"
      ],
      "metadata": {
        "colab": {
          "base_uri": "https://localhost:8080/"
        },
        "id": "isMUB9rD6-mK",
        "outputId": "f33f45fb-c170-4f7d-8134-af5ee07ef3d0"
      },
      "execution_count": null,
      "outputs": [
        {
          "output_type": "stream",
          "name": "stderr",
          "text": [
            "<ipython-input-2-6a328491a770>:45: UserWarning: Implicit dimension choice for log_softmax has been deprecated. Change the call to include dim=X as an argument.\n",
            "  return F.log_softmax(x)\n"
          ]
        }
      ]
    },
    {
      "cell_type": "code",
      "source": [
        "# Let us create the ONNX run time with the ONNX file which we generated before\n",
        "ort_session = onnxruntime.InferenceSession(\"/content/MNIST_Classifier.onnx\")\n",
        "\n",
        "def to_numpy(tensor):\n",
        "    print (\"Type = {}\".format(type(tensor)))\n",
        "    return tensor.detach().cpu().numpy() if tensor.requires_grad else tensor.cpu().numpy()\n",
        "\n",
        "# compute ONNX Runtime output prediction\n",
        "ort_inputs = {ort_session.get_inputs()[0].name: to_numpy(dummy_input)}\n",
        "ort_outs = ort_session.run(None, ort_inputs)\n",
        "\n",
        "print (\"torch_out size = {}\".format(torch_out.shape))\n",
        "print (\"ort_outs[0] size = {}\".format((ort_outs[0]).shape))\n",
        "\n",
        "# compare ONNX Runtime and PyTorch results\n",
        "np.testing.assert_allclose(to_numpy(torch_out), ort_outs[0], rtol=1e-03, atol=1e-05)\n",
        "\n",
        "print(\"Exported model has been tested with ONNXRuntime, and the result looks good!\")"
      ],
      "metadata": {
        "colab": {
          "base_uri": "https://localhost:8080/"
        },
        "id": "A4ADBHIj8Gdd",
        "outputId": "82cc9476-f8f8-437d-805a-60944cf250a5"
      },
      "execution_count": null,
      "outputs": [
        {
          "output_type": "stream",
          "name": "stdout",
          "text": [
            "Type = <class 'torch.Tensor'>\n",
            "torch_out size = torch.Size([1, 10])\n",
            "ort_outs[0] size = (1, 10)\n",
            "Type = <class 'torch.Tensor'>\n",
            "Exported model has been tested with ONNXRuntime, and the result looks good!\n"
          ]
        }
      ]
    },
    {
      "cell_type": "code",
      "source": [
        "# Read the image, scale it to 28x28 and convert it into Grayscale\n",
        "img = cv2.imread('/content/seven.jpg')\n",
        "img = cv2.resize(img, (28,28))\n",
        "img = cv2.cvtColor(img, cv2.COLOR_BGR2GRAY)\n",
        "\n",
        "'''\n",
        "To match to MNIST dataset, we need to invert the image\n",
        "for more information check here -->\n",
        "https://stackoverflow.com/questions/58631088/why-are-my-neural-network-predictions-correct-when-applied-to-mnist-hand-drawn-i\n",
        "'''\n",
        "img= cv2.bitwise_not(img) # invert image\n",
        "plt.figure(figsize = (1,1))\n",
        "plt.imshow(img, cmap = plt.cm.binary)\n",
        "\n",
        "# Bring the image between 0->1 and perform zero mean, unit variance\n",
        "img = img.astype(np.float32)\n",
        "img = img/255\n",
        "img = (img-0.1307)/0.3081\n",
        "\n",
        "# We need image size as batch x channels x width x height\n",
        "img = np.expand_dims(img, 0)\n",
        "img = np.expand_dims(img, 0)\n",
        "img = torch.from_numpy(img).to(device)\n",
        "\n",
        "ort_inputs = {ort_session.get_inputs()[0].name: to_numpy(img)}\n",
        "ort_outs = ort_session.run(None, ort_inputs)\n",
        "\n",
        "ort_outs_tensor = torch.from_numpy(ort_outs[0])\n",
        "#print(ort_outs_tensor.shape)\n",
        "\n",
        "pred = ort_outs_tensor.argmax(dim=1, keepdim=True)  # get the index of the max log-probability\n",
        "pred = pred.detach().cpu().numpy()\n",
        "\n",
        "print ('\\x1b[1;31m \\x1b[0;31m'+\"Charecter is ➡ {} \".format(pred.flatten()[0])+'\\x1b[0m')"
      ],
      "metadata": {
        "colab": {
          "base_uri": "https://localhost:8080/",
          "height": 176
        },
        "id": "V_iK_4-18-y9",
        "outputId": "6600ab5e-4059-42ed-a482-f602b0fe9b76"
      },
      "execution_count": null,
      "outputs": [
        {
          "output_type": "stream",
          "name": "stdout",
          "text": [
            "Type = <class 'torch.Tensor'>\n",
            "\u001b[1;31m \u001b[0;31mCharecter is ➡ 7 \u001b[0m\n"
          ]
        },
        {
          "output_type": "display_data",
          "data": {
            "text/plain": [
              "<Figure size 100x100 with 1 Axes>"
            ],
            "image/png": "[encoded data removed]"
          },
          "metadata": {}
        }
      ]
    },
    {
      "cell_type": "markdown",
      "source": [
        "# 4. Converting the model to tensorRT and inferencing it"
      ],
      "metadata": {
        "id": "_Ol0aK569-h4"
      }
    },
    {
      "cell_type": "code",
      "source": [
        "!pip install --upgrade setuptools pip --user\n",
        "!pip install --ignore-installed PyYAML\n",
        "!pip install Pillow\n",
        "\n",
        "!pip install nvidia-pyindex\n",
        "!pip install --upgrade nvidia-tensorrt\n",
        "!pip install pycuda"
      ],
      "metadata": {
        "colab": {
          "base_uri": "https://localhost:8080/",
          "height": 1000
        },
        "id": "yq9L_YR8--v9",
        "outputId": "82b6e38a-ca61-4751-81a2-5a8739166fba"
      },
      "execution_count": null,
      "outputs": [
        {
          "output_type": "stream",
          "name": "stdout",
          "text": [
            "Requirement already satisfied: setuptools in /usr/local/lib/python3.10/dist-packages (67.7.2)\n",
            "Collecting setuptools\n",
            "  Downloading setuptools-69.0.3-py3-none-any.whl (819 kB)\n",
            "\u001b[2K     \u001b[90m━━━━━━━━━━━━━━━━━━━━━━━━━━━━━━━━━━━━━━━━\u001b[0m \u001b[32m819.5/819.5 kB\u001b[0m \u001b[31m5.3 MB/s\u001b[0m eta \u001b[36m0:00:00\u001b[0m\n",
            "\u001b[?25hRequirement already satisfied: pip in /usr/local/lib/python3.10/dist-packages (23.1.2)\n",
            "Collecting pip\n",
            "  Downloading pip-23.3.2-py3-none-any.whl (2.1 MB)\n",
            "\u001b[2K     \u001b[90m━━━━━━━━━━━━━━━━━━━━━━━━━━━━━━━━━━━━━━━━\u001b[0m \u001b[32m2.1/2.1 MB\u001b[0m \u001b[31m35.4 MB/s\u001b[0m eta \u001b[36m0:00:00\u001b[0m\n",
            "\u001b[?25hInstalling collected packages: setuptools, pip\n",
            "\u001b[33m  WARNING: The scripts pip, pip3 and pip3.10 are installed in '/root/.local/bin' which is not on PATH.\n",
            "  Consider adding this directory to PATH or, if you prefer to suppress this warning, use --no-warn-script-location.\u001b[0m\u001b[33m\n",
            "\u001b[0m\u001b[31mERROR: pip's dependency resolver does not currently take into account all the packages that are installed. This behaviour is the source of the following dependency conflicts.\n",
            "ipython 7.34.0 requires jedi>=0.16, which is not installed.\n",
            "lida 0.0.10 requires fastapi, which is not installed.\n",
            "lida 0.0.10 requires kaleido, which is not installed.\n",
            "lida 0.0.10 requires python-multipart, which is not installed.\n",
            "lida 0.0.10 requires uvicorn, which is not installed.\u001b[0m\u001b[31m\n",
            "\u001b[0mSuccessfully installed pip-23.3.2 setuptools-69.0.3\n"
          ]
        },
        {
          "output_type": "display_data",
          "data": {
            "application/vnd.colab-display-data+json": {
              "pip_warning": {
                "packages": [
                  "_distutils_hack",
                  "pkg_resources",
                  "setuptools"
                ]
              }
            }
          },
          "metadata": {}
        },
        {
          "output_type": "stream",
          "name": "stdout",
          "text": [
            "Collecting PyYAML\n",
            "  Downloading PyYAML-6.0.1-cp310-cp310-manylinux_2_17_x86_64.manylinux2014_x86_64.whl.metadata (2.1 kB)\n",
            "Downloading PyYAML-6.0.1-cp310-cp310-manylinux_2_17_x86_64.manylinux2014_x86_64.whl (705 kB)\n",
            "\u001b[2K   \u001b[90m━━━━━━━━━━━━━━━━━━━━━━━━━━━━━━━━━━━━━━━━\u001b[0m \u001b[32m705.5/705.5 kB\u001b[0m \u001b[31m4.4 MB/s\u001b[0m eta \u001b[36m0:00:00\u001b[0m\n",
            "\u001b[?25hInstalling collected packages: PyYAML\n",
            "\u001b[31mERROR: pip's dependency resolver does not currently take into account all the packages that are installed. This behaviour is the source of the following dependency conflicts.\n",
            "llmx 0.0.15a0 requires cohere, which is not installed.\n",
            "llmx 0.0.15a0 requires openai, which is not installed.\n",
            "llmx 0.0.15a0 requires tiktoken, which is not installed.\u001b[0m\u001b[31m\n",
            "\u001b[0mSuccessfully installed PyYAML-6.0.1\n",
            "\u001b[33mWARNING: Running pip as the 'root' user can result in broken permissions and conflicting behaviour with the system package manager. It is recommended to use a virtual environment instead: https://pip.pypa.io/warnings/venv\u001b[0m\u001b[33m\n",
            "\u001b[0m"
          ]
        },
        {
          "output_type": "display_data",
          "data": {
            "application/vnd.colab-display-data+json": {
              "pip_warning": {
                "packages": [
                  "yaml"
                ]
              }
            }
          },
          "metadata": {}
        },
        {
          "output_type": "stream",
          "name": "stdout",
          "text": [
            "Requirement already satisfied: Pillow in /usr/local/lib/python3.10/dist-packages (9.4.0)\n",
            "\u001b[33mWARNING: Running pip as the 'root' user can result in broken permissions and conflicting behaviour with the system package manager. It is recommended to use a virtual environment instead: https://pip.pypa.io/warnings/venv\u001b[0m\u001b[33m\n",
            "\u001b[0mCollecting nvidia-pyindex\n",
            "  Downloading nvidia-pyindex-1.0.9.tar.gz (10 kB)\n",
            "  Preparing metadata (setup.py) ... \u001b[?25l\u001b[?25hdone\n",
            "Building wheels for collected packages: nvidia-pyindex\n",
            "  Building wheel for nvidia-pyindex (setup.py) ... \u001b[?25l\u001b[?25hdone\n",
            "  Created wheel for nvidia-pyindex: filename=nvidia_pyindex-1.0.9-py3-none-any.whl size=8418 sha256=368997bdbe7c09ce72f3a5ecac435d50264dd5cb2e41598cf05b2d6e9536e4c2\n",
            "  Stored in directory: /root/.cache/pip/wheels/2c/af/d0/7a12f82cab69f65d51107f48bcd6179e29b9a69a90546332b3\n",
            "Successfully built nvidia-pyindex\n",
            "Installing collected packages: nvidia-pyindex\n",
            "Successfully installed nvidia-pyindex-1.0.9\n",
            "\u001b[33mWARNING: Running pip as the 'root' user can result in broken permissions and conflicting behaviour with the system package manager. It is recommended to use a virtual environment instead: https://pip.pypa.io/warnings/venv\u001b[0m\u001b[33m\n",
            "\u001b[0mCollecting nvidia-tensorrt\n",
            "  Downloading nvidia_tensorrt-99.0.0-py3-none-manylinux_2_17_x86_64.whl (17 kB)\n",
            "Collecting tensorrt (from nvidia-tensorrt)\n",
            "  Downloading tensorrt-8.6.1.post1.tar.gz (18 kB)\n",
            "  Preparing metadata (setup.py) ... \u001b[?25l\u001b[?25hdone\n",
            "Building wheels for collected packages: tensorrt\n",
            "  Building wheel for tensorrt (setup.py) ... \u001b[?25l\u001b[?25hdone\n",
            "  Created wheel for tensorrt: filename=tensorrt-8.6.1.post1-py2.py3-none-any.whl size=17283 sha256=7fcb5a6fa9e6a42b84e86fbf32fd441366d55ba112cd63aae614569233e712bc\n",
            "  Stored in directory: /root/.cache/pip/wheels/f4/c8/0e/b79b08e45752491b9acfdbd69e8a609e8b2ed7640dda5a3e59\n",
            "Successfully built tensorrt\n",
            "Installing collected packages: tensorrt, nvidia-tensorrt\n",
            "Successfully installed nvidia-tensorrt-99.0.0 tensorrt-8.6.1.post1\n",
            "\u001b[33mWARNING: Running pip as the 'root' user can result in broken permissions and conflicting behaviour with the system package manager. It is recommended to use a virtual environment instead: https://pip.pypa.io/warnings/venv\u001b[0m\u001b[33m\n",
            "\u001b[0mCollecting pycuda\n",
            "  Downloading pycuda-2024.1.tar.gz (1.7 MB)\n",
            "\u001b[2K     \u001b[90m━━━━━━━━━━━━━━━━━━━━━━━━━━━━━━━━━━━━━━━━\u001b[0m \u001b[32m1.7/1.7 MB\u001b[0m \u001b[31m7.4 MB/s\u001b[0m eta \u001b[36m0:00:00\u001b[0m\n",
            "\u001b[?25h  Installing build dependencies ... \u001b[?25l\u001b[?25hdone\n",
            "  Getting requirements to build wheel ... \u001b[?25l\u001b[?25hdone\n",
            "  Preparing metadata (pyproject.toml) ... \u001b[?25l\u001b[?25hdone\n",
            "Collecting pytools>=2011.2 (from pycuda)\n",
            "  Downloading pytools-2023.1.1-py2.py3-none-any.whl.metadata (2.7 kB)\n",
            "Requirement already satisfied: appdirs>=1.4.0 in /usr/local/lib/python3.10/dist-packages (from pycuda) (1.4.4)\n",
            "Collecting mako (from pycuda)\n",
            "  Downloading Mako-1.3.0-py3-none-any.whl.metadata (2.9 kB)\n",
            "Requirement already satisfied: platformdirs>=2.2.0 in /usr/local/lib/python3.10/dist-packages (from pytools>=2011.2->pycuda) (4.1.0)\n",
            "Requirement already satisfied: typing-extensions>=4.0 in /usr/local/lib/python3.10/dist-packages (from pytools>=2011.2->pycuda) (4.5.0)\n",
            "Requirement already satisfied: MarkupSafe>=0.9.2 in /usr/local/lib/python3.10/dist-packages (from mako->pycuda) (2.1.3)\n",
            "Downloading pytools-2023.1.1-py2.py3-none-any.whl (70 kB)\n",
            "\u001b[2K   \u001b[90m━━━━━━━━━━━━━━━━━━━━━━━━━━━━━━━━━━━━━━━━\u001b[0m \u001b[32m70.6/70.6 kB\u001b[0m \u001b[31m6.9 MB/s\u001b[0m eta \u001b[36m0:00:00\u001b[0m\n",
            "\u001b[?25hDownloading Mako-1.3.0-py3-none-any.whl (78 kB)\n",
            "\u001b[2K   \u001b[90m━━━━━━━━━━━━━━━━━━━━━━━━━━━━━━━━━━━━━━━━\u001b[0m \u001b[32m78.6/78.6 kB\u001b[0m \u001b[31m7.7 MB/s\u001b[0m eta \u001b[36m0:00:00\u001b[0m\n",
            "\u001b[?25hBuilding wheels for collected packages: pycuda\n",
            "  Building wheel for pycuda (pyproject.toml) ... \u001b[?25l\u001b[?25hdone\n",
            "  Created wheel for pycuda: filename=pycuda-2024.1-cp310-cp310-linux_x86_64.whl size=661205 sha256=8a0ba9ad2b5317b4810e767efacf73cd7b5c74b25ebde54a9d24086f044fdad9\n",
            "  Stored in directory: /root/.cache/pip/wheels/12/34/d2/9a349255a4eca3a486d82c79d21e138ce2ccd90f414d9d72b8\n",
            "Successfully built pycuda\n",
            "Installing collected packages: pytools, mako, pycuda\n",
            "Successfully installed mako-1.3.0 pycuda-2024.1 pytools-2023.1.1\n",
            "\u001b[33mWARNING: Running pip as the 'root' user can result in broken permissions and conflicting behaviour with the system package manager. It is recommended to use a virtual environment instead: https://pip.pypa.io/warnings/venv\u001b[0m\u001b[33m\n",
            "\u001b[0m"
          ]
        }
      ]
    },
    {
      "cell_type": "code",
      "source": [
        "from collections import OrderedDict,namedtuple\n",
        "import tensorrt as trt\n",
        "import time"
      ],
      "metadata": {
        "id": "fMqeJ638BGKX"
      },
      "execution_count": null,
      "outputs": []
    },
    {
      "cell_type": "code",
      "source": [
        "# Download ONNX to TensorRT converter\n",
        "%cd /content/\n",
        "!git clone https://github.com/Linaom1214/tensorrt-python.git\n",
        "\n",
        "%cd tensorrt-python\n",
        "!ls"
      ],
      "metadata": {
        "colab": {
          "base_uri": "https://localhost:8080/"
        },
        "id": "EAX92BP0-K8Q",
        "outputId": "f9a14efa-9293-4fbe-c585-92fb698ec837"
      },
      "execution_count": null,
      "outputs": [
        {
          "output_type": "stream",
          "name": "stdout",
          "text": [
            "/content\n",
            "Cloning into 'tensorrt-python'...\n",
            "remote: Enumerating objects: 337, done.\u001b[K\n",
            "remote: Counting objects: 100% (83/83), done.\u001b[K\n",
            "remote: Compressing objects: 100% (26/26), done.\u001b[K\n",
            "remote: Total 337 (delta 61), reused 57 (delta 57), pack-reused 254\u001b[K\n",
            "Receiving objects: 100% (337/337), 132.56 MiB | 38.35 MiB/s, done.\n",
            "Resolving deltas: 100% (169/169), done.\n",
            "/content/tensorrt-python\n",
            "cpp  export.py\timage_batch.py\tREADME_CN.md  README.md  src  trt.py  utils\n"
          ]
        }
      ]
    },
    {
      "cell_type": "code",
      "source": [
        "# Export TensorRT-engine model\n",
        "!python export.py -o /content/MNIST_Classifier.onnx -e ./MNIST_Classifier_engine.trt -p fp32"
      ],
      "metadata": {
        "colab": {
          "base_uri": "https://localhost:8080/"
        },
        "id": "_oD4Ulwv-ybZ",
        "outputId": "fd274dc8-223a-4a7d-b813-31c199f8c10a"
      },
      "execution_count": null,
      "outputs": [
        {
          "output_type": "stream",
          "name": "stdout",
          "text": [
            "Namespace(onnx='/content/MNIST_Classifier.onnx', engine='./MNIST_Classifier_engine.trt', precision='fp32', verbose=False, workspace=1, calib_input=None, calib_cache='./calibration.cache', calib_num_images=5000, calib_batch_size=8, end2end=False, conf_thres=0.4, iou_thres=0.5, max_det=100, v8=False)\n",
            "[01/11/2024-06:11:39] [TRT] [I] [MemUsageChange] Init CUDA: CPU +1, GPU +0, now: CPU 27, GPU 545 (MiB)\n",
            "[01/11/2024-06:11:53] [TRT] [I] [MemUsageChange] Init builder kernel library: CPU +888, GPU +174, now: CPU 992, GPU 719 (MiB)\n",
            "[01/11/2024-06:11:53] [TRT] [W] onnx2trt_utils.cpp:374: Your ONNX model has been generated with INT64 weights, while TensorRT does not natively support INT64. Attempting to cast down to INT32.\n",
            "Network Description\n",
            "Input 'images' with shape (1, 1, 28, 28) and dtype DataType.FLOAT\n",
            "Output 'output0' with shape (1, 10) and dtype DataType.FLOAT\n",
            "Building fp32 Engine in /content/tensorrt-python/MNIST_Classifier_engine.trt\n",
            "[01/11/2024-06:11:53] [TRT] [I] BuilderFlag::kTF32 is set but hardware does not support TF32. Disabling TF32.\n",
            "[01/11/2024-06:11:53] [TRT] [I] Graph optimization time: 0.00203376 seconds.\n",
            "[01/11/2024-06:11:53] [TRT] [I] BuilderFlag::kTF32 is set but hardware does not support TF32. Disabling TF32.\n",
            "[01/11/2024-06:11:53] [TRT] [I] Local timing cache in use. Profiling results in this builder pass will not be stored.\n",
            "[01/11/2024-06:11:59] [TRT] [I] Detected 1 inputs and 1 output network tensors.\n",
            "[01/11/2024-06:11:59] [TRT] [I] Total Host Persistent Memory: 59968\n",
            "[01/11/2024-06:11:59] [TRT] [I] Total Device Persistent Memory: 0\n",
            "[01/11/2024-06:11:59] [TRT] [I] Total Scratch Memory: 0\n",
            "[01/11/2024-06:11:59] [TRT] [I] [MemUsageStats] Peak memory usage of TRT CPU/GPU memory allocators: CPU 0 MiB, GPU 4 MiB\n",
            "[01/11/2024-06:11:59] [TRT] [I] [BlockAssignment] Started assigning block shifts. This will take 22 steps to complete.\n",
            "[01/11/2024-06:11:59] [TRT] [I] [BlockAssignment] Algorithm ShiftNTopDown took 0.171204ms to assign 2 blocks to 22 nodes requiring 75776 bytes.\n",
            "[01/11/2024-06:11:59] [TRT] [I] Total Activation Memory: 75776\n",
            "[01/11/2024-06:11:59] [TRT] [I] [MemUsageChange] TensorRT-managed allocation in building engine: CPU +0, GPU +4, now: CPU 0, GPU 4 (MiB)\n",
            "Serializing engine to file: /content/tensorrt-python/MNIST_Classifier_engine.trt\n"
          ]
        }
      ]
    },
    {
      "cell_type": "code",
      "source": [
        "w = '/content/tensorrt-python/MNIST_Classifier_engine.trt'\n",
        "\n",
        "# Infer TensorRT Engine\n",
        "Binding = namedtuple('Binding', ('name', 'dtype', 'shape', 'data', 'ptr'))\n",
        "logger = trt.Logger(trt.Logger.INFO)\n",
        "trt.init_libnvinfer_plugins(logger, namespace=\"\")\n",
        "with open(w, 'rb') as f, trt.Runtime(logger) as runtime:\n",
        "    model = runtime.deserialize_cuda_engine(f.read())\n",
        "bindings = OrderedDict()\n",
        "for index in range(model.num_bindings):\n",
        "    name = model.get_binding_name(index)\n",
        "    dtype = trt.nptype(model.get_binding_dtype(index))\n",
        "    shape = tuple(model.get_binding_shape(index))\n",
        "    data = torch.from_numpy(np.empty(shape, dtype=np.dtype(dtype))).to(device)\n",
        "    bindings[name] = Binding(name, dtype, shape, data, int(data.data_ptr()))\n",
        "\n",
        "    print (\"name = {}\".format(name))\n",
        "    print (\"dtype = {}\".format(dtype))\n",
        "    print (\"shape = {}\".format(shape))\n",
        "binding_addrs = OrderedDict((n, d.ptr) for n, d in bindings.items())\n",
        "context = model.create_execution_context()"
      ],
      "metadata": {
        "colab": {
          "base_uri": "https://localhost:8080/"
        },
        "id": "7iXVQFhAAy9e",
        "outputId": "78ab81ee-4b5a-495f-a8f3-bb884631a8f0"
      },
      "execution_count": null,
      "outputs": [
        {
          "output_type": "stream",
          "name": "stdout",
          "text": [
            "name = images\n",
            "dtype = <class 'numpy.float32'>\n",
            "shape = (1, 1, 28, 28)\n",
            "name = output0\n",
            "dtype = <class 'numpy.float32'>\n",
            "shape = (1, 10)\n"
          ]
        },
        {
          "output_type": "stream",
          "name": "stderr",
          "text": [
            "<ipython-input-16-120be86e3eea>:11: DeprecationWarning: Use get_tensor_name instead.\n",
            "  name = model.get_binding_name(index)\n",
            "<ipython-input-16-120be86e3eea>:12: DeprecationWarning: Use get_tensor_dtype instead.\n",
            "  dtype = trt.nptype(model.get_binding_dtype(index))\n",
            "<ipython-input-16-120be86e3eea>:13: DeprecationWarning: Use get_tensor_shape instead.\n",
            "  shape = tuple(model.get_binding_shape(index))\n"
          ]
        }
      ]
    },
    {
      "cell_type": "code",
      "source": [
        "img = cv2.imread('/content/seven.jpg')\n",
        "img = cv2.resize(img, (28,28))\n",
        "img = cv2.cvtColor(img, cv2.COLOR_BGR2GRAY)\n",
        "img= cv2.bitwise_not(img) # invert image\n",
        "plt.imshow(img, cmap = plt.cm.binary)\n",
        "\n",
        "img = img.astype(np.float32)\n",
        "img = img/255\n",
        "img = (img-0.1307)/0.3081\n",
        "\n",
        "img = np.expand_dims(img, 0)\n",
        "img = np.expand_dims(img, 0)\n",
        "img = torch.from_numpy(img).to(device)\n",
        "\n",
        "# warmup for 10 times\n",
        "for _ in range(10):\n",
        "    tmp = torch.randn(1,3,640,640).to(device)\n",
        "    binding_addrs['images'] = int(tmp.data_ptr())\n",
        "    context.execute_v2(list(binding_addrs.values()))\n",
        "\n",
        "start = time.perf_counter()\n",
        "binding_addrs['images'] = int(img.data_ptr())\n",
        "context.execute_v2(list(binding_addrs.values()))\n",
        "print(f'Cost {time.perf_counter()-start} s')\n",
        "\n",
        "outputs = bindings['output0'].data\n",
        "\n",
        "print (\"Output shape = {}\".format(outputs.shape))\n",
        "\n",
        "pred = outputs.argmax(dim=1, keepdim=True)  # get the index of the max log-probability\n",
        "pred = pred.detach().cpu().numpy()\n",
        "\n",
        "print (\"Charecter is ➡ {} \".format(pred.flatten()[0]))"
      ],
      "metadata": {
        "colab": {
          "base_uri": "https://localhost:8080/",
          "height": 482
        },
        "id": "tzMFdohkBR-7",
        "outputId": "0bb895b2-7a72-4139-f2cb-050af8a81cc7"
      },
      "execution_count": null,
      "outputs": [
        {
          "output_type": "stream",
          "name": "stdout",
          "text": [
            "Cost 0.0005135650000056557 s\n",
            "Output shape = torch.Size([1, 10])\n",
            "Charecter is ➡ 7 \n"
          ]
        },
        {
          "output_type": "display_data",
          "data": {
            "text/plain": [
              "<Figure size 640x480 with 1 Axes>"
            ],
            "image/png": "[encoded data removed]"
          },
          "metadata": {}
        }
      ]
    }
  ]
}